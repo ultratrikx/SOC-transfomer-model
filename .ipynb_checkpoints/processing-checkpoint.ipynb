{
 "cells": [
  {
   "cell_type": "code",
   "execution_count": 18,
   "id": "81e19d90d14171ed",
   "metadata": {
    "ExecuteTime": {
     "end_time": "2024-12-15T02:10:29.130744Z",
     "start_time": "2024-12-15T02:10:27.645912Z"
    }
   },
   "outputs": [
    {
     "ename": "AttributeError",
     "evalue": "'_ArtistPropertiesSubstitution' object has no attribute 'register'",
     "output_type": "error",
     "traceback": [
      "\u001b[1;31m---------------------------------------------------------------------------\u001b[0m",
      "\u001b[1;31mAttributeError\u001b[0m                            Traceback (most recent call last)",
      "Cell \u001b[1;32mIn[18], line 3\u001b[0m\n\u001b[0;32m      1\u001b[0m \u001b[38;5;28;01mimport\u001b[39;00m \u001b[38;5;21;01mnumpy\u001b[39;00m \u001b[38;5;28;01mas\u001b[39;00m \u001b[38;5;21;01mnp\u001b[39;00m\n\u001b[0;32m      2\u001b[0m \u001b[38;5;28;01mimport\u001b[39;00m \u001b[38;5;21;01mpandas\u001b[39;00m \u001b[38;5;28;01mas\u001b[39;00m \u001b[38;5;21;01mpd\u001b[39;00m\n\u001b[1;32m----> 3\u001b[0m \u001b[38;5;28;01mimport\u001b[39;00m \u001b[38;5;21;01mmatplotlib\u001b[39;00m\u001b[38;5;21;01m.\u001b[39;00m\u001b[38;5;21;01mpyplot\u001b[39;00m \u001b[38;5;28;01mas\u001b[39;00m \u001b[38;5;21;01mplt\u001b[39;00m\n",
      "File \u001b[1;32mc:\\Users\\Rohan\\anaconda3\\envs\\carbon-seq-model\\lib\\site-packages\\matplotlib\\pyplot.py:66\u001b[0m\n\u001b[0;32m     63\u001b[0m \u001b[38;5;28;01mfrom\u001b[39;00m \u001b[38;5;21;01mmatplotlib\u001b[39;00m \u001b[38;5;28;01mimport\u001b[39;00m _docstring\n\u001b[0;32m     64\u001b[0m \u001b[38;5;28;01mfrom\u001b[39;00m \u001b[38;5;21;01mmatplotlib\u001b[39;00m\u001b[38;5;21;01m.\u001b[39;00m\u001b[38;5;21;01mbackend_bases\u001b[39;00m \u001b[38;5;28;01mimport\u001b[39;00m (\n\u001b[0;32m     65\u001b[0m     FigureCanvasBase, FigureManagerBase, MouseButton)\n\u001b[1;32m---> 66\u001b[0m \u001b[38;5;28;01mfrom\u001b[39;00m \u001b[38;5;21;01mmatplotlib\u001b[39;00m\u001b[38;5;21;01m.\u001b[39;00m\u001b[38;5;21;01mfigure\u001b[39;00m \u001b[38;5;28;01mimport\u001b[39;00m Figure, FigureBase, figaspect\n\u001b[0;32m     67\u001b[0m \u001b[38;5;28;01mfrom\u001b[39;00m \u001b[38;5;21;01mmatplotlib\u001b[39;00m\u001b[38;5;21;01m.\u001b[39;00m\u001b[38;5;21;01mgridspec\u001b[39;00m \u001b[38;5;28;01mimport\u001b[39;00m GridSpec, SubplotSpec\n\u001b[0;32m     68\u001b[0m \u001b[38;5;28;01mfrom\u001b[39;00m \u001b[38;5;21;01mmatplotlib\u001b[39;00m \u001b[38;5;28;01mimport\u001b[39;00m rcsetup, rcParamsDefault, rcParamsOrig\n",
      "File \u001b[1;32mc:\\Users\\Rohan\\anaconda3\\envs\\carbon-seq-model\\lib\\site-packages\\matplotlib\\figure.py:40\u001b[0m\n\u001b[0;32m     37\u001b[0m \u001b[38;5;28;01mimport\u001b[39;00m \u001b[38;5;21;01mnumpy\u001b[39;00m \u001b[38;5;28;01mas\u001b[39;00m \u001b[38;5;21;01mnp\u001b[39;00m\n\u001b[0;32m     39\u001b[0m \u001b[38;5;28;01mimport\u001b[39;00m \u001b[38;5;21;01mmatplotlib\u001b[39;00m \u001b[38;5;28;01mas\u001b[39;00m \u001b[38;5;21;01mmpl\u001b[39;00m\n\u001b[1;32m---> 40\u001b[0m \u001b[38;5;28;01mfrom\u001b[39;00m \u001b[38;5;21;01mmatplotlib\u001b[39;00m \u001b[38;5;28;01mimport\u001b[39;00m _blocking_input, backend_bases, _docstring, projections\n\u001b[0;32m     41\u001b[0m \u001b[38;5;28;01mfrom\u001b[39;00m \u001b[38;5;21;01mmatplotlib\u001b[39;00m\u001b[38;5;21;01m.\u001b[39;00m\u001b[38;5;21;01martist\u001b[39;00m \u001b[38;5;28;01mimport\u001b[39;00m (\n\u001b[0;32m     42\u001b[0m     Artist, allow_rasterization, _finalize_rasterization)\n\u001b[0;32m     43\u001b[0m \u001b[38;5;28;01mfrom\u001b[39;00m \u001b[38;5;21;01mmatplotlib\u001b[39;00m\u001b[38;5;21;01m.\u001b[39;00m\u001b[38;5;21;01mbackend_bases\u001b[39;00m \u001b[38;5;28;01mimport\u001b[39;00m (\n\u001b[0;32m     44\u001b[0m     DrawEvent, FigureCanvasBase, NonGuiException, MouseButton, _get_renderer)\n",
      "File \u001b[1;32mc:\\Users\\Rohan\\anaconda3\\envs\\carbon-seq-model\\lib\\site-packages\\matplotlib\\projections\\__init__.py:55\u001b[0m\n\u001b[0;32m      1\u001b[0m \u001b[38;5;124;03m\"\"\"\u001b[39;00m\n\u001b[0;32m      2\u001b[0m \u001b[38;5;124;03mNon-separable transforms that map from data space to screen space.\u001b[39;00m\n\u001b[0;32m      3\u001b[0m \n\u001b[1;32m   (...)\u001b[0m\n\u001b[0;32m     52\u001b[0m \u001b[38;5;124;03m`matplotlib.projections.polar` may also be of interest.\u001b[39;00m\n\u001b[0;32m     53\u001b[0m \u001b[38;5;124;03m\"\"\"\u001b[39;00m\n\u001b[1;32m---> 55\u001b[0m \u001b[38;5;28;01mfrom\u001b[39;00m \u001b[38;5;21;01m.\u001b[39;00m\u001b[38;5;21;01m.\u001b[39;00m \u001b[38;5;28;01mimport\u001b[39;00m axes, _docstring\n\u001b[0;32m     56\u001b[0m \u001b[38;5;28;01mfrom\u001b[39;00m \u001b[38;5;21;01m.\u001b[39;00m\u001b[38;5;21;01mgeo\u001b[39;00m \u001b[38;5;28;01mimport\u001b[39;00m AitoffAxes, HammerAxes, LambertAxes, MollweideAxes\n\u001b[0;32m     57\u001b[0m \u001b[38;5;28;01mfrom\u001b[39;00m \u001b[38;5;21;01m.\u001b[39;00m\u001b[38;5;21;01mpolar\u001b[39;00m \u001b[38;5;28;01mimport\u001b[39;00m PolarAxes\n",
      "File \u001b[1;32mc:\\Users\\Rohan\\anaconda3\\envs\\carbon-seq-model\\lib\\site-packages\\matplotlib\\axes\\__init__.py:2\u001b[0m\n\u001b[0;32m      1\u001b[0m \u001b[38;5;28;01mfrom\u001b[39;00m \u001b[38;5;21;01m.\u001b[39;00m \u001b[38;5;28;01mimport\u001b[39;00m _base\n\u001b[1;32m----> 2\u001b[0m \u001b[38;5;28;01mfrom\u001b[39;00m \u001b[38;5;21;01m.\u001b[39;00m\u001b[38;5;21;01m_axes\u001b[39;00m \u001b[38;5;28;01mimport\u001b[39;00m Axes  \u001b[38;5;66;03m# noqa: F401\u001b[39;00m\n\u001b[0;32m      4\u001b[0m \u001b[38;5;66;03m# Backcompat.\u001b[39;00m\n\u001b[0;32m      5\u001b[0m Subplot \u001b[38;5;241m=\u001b[39m Axes\n",
      "File \u001b[1;32mc:\\Users\\Rohan\\anaconda3\\envs\\carbon-seq-model\\lib\\site-packages\\matplotlib\\axes\\_axes.py:32\u001b[0m\n\u001b[0;32m     30\u001b[0m \u001b[38;5;28;01mimport\u001b[39;00m \u001b[38;5;21;01mmatplotlib\u001b[39;00m\u001b[38;5;21;01m.\u001b[39;00m\u001b[38;5;21;01mticker\u001b[39;00m \u001b[38;5;28;01mas\u001b[39;00m \u001b[38;5;21;01mmticker\u001b[39;00m\n\u001b[0;32m     31\u001b[0m \u001b[38;5;28;01mimport\u001b[39;00m \u001b[38;5;21;01mmatplotlib\u001b[39;00m\u001b[38;5;21;01m.\u001b[39;00m\u001b[38;5;21;01mtransforms\u001b[39;00m \u001b[38;5;28;01mas\u001b[39;00m \u001b[38;5;21;01mmtransforms\u001b[39;00m\n\u001b[1;32m---> 32\u001b[0m \u001b[38;5;28;01mimport\u001b[39;00m \u001b[38;5;21;01mmatplotlib\u001b[39;00m\u001b[38;5;21;01m.\u001b[39;00m\u001b[38;5;21;01mtri\u001b[39;00m \u001b[38;5;28;01mas\u001b[39;00m \u001b[38;5;21;01mmtri\u001b[39;00m\n\u001b[0;32m     33\u001b[0m \u001b[38;5;28;01mimport\u001b[39;00m \u001b[38;5;21;01mmatplotlib\u001b[39;00m\u001b[38;5;21;01m.\u001b[39;00m\u001b[38;5;21;01munits\u001b[39;00m \u001b[38;5;28;01mas\u001b[39;00m \u001b[38;5;21;01mmunits\u001b[39;00m\n\u001b[0;32m     34\u001b[0m \u001b[38;5;28;01mfrom\u001b[39;00m \u001b[38;5;21;01mmatplotlib\u001b[39;00m \u001b[38;5;28;01mimport\u001b[39;00m _api, _docstring, _preprocess_data\n",
      "File \u001b[1;32mc:\\Users\\Rohan\\anaconda3\\envs\\carbon-seq-model\\lib\\site-packages\\matplotlib\\tri\\__init__.py:6\u001b[0m\n\u001b[0;32m      1\u001b[0m \u001b[38;5;124;03m\"\"\"\u001b[39;00m\n\u001b[0;32m      2\u001b[0m \u001b[38;5;124;03mUnstructured triangular grid functions.\u001b[39;00m\n\u001b[0;32m      3\u001b[0m \u001b[38;5;124;03m\"\"\"\u001b[39;00m\n\u001b[0;32m      5\u001b[0m \u001b[38;5;28;01mfrom\u001b[39;00m \u001b[38;5;21;01m.\u001b[39;00m\u001b[38;5;21;01m_triangulation\u001b[39;00m \u001b[38;5;28;01mimport\u001b[39;00m Triangulation\n\u001b[1;32m----> 6\u001b[0m \u001b[38;5;28;01mfrom\u001b[39;00m \u001b[38;5;21;01m.\u001b[39;00m\u001b[38;5;21;01m_tricontour\u001b[39;00m \u001b[38;5;28;01mimport\u001b[39;00m TriContourSet, tricontour, tricontourf\n\u001b[0;32m      7\u001b[0m \u001b[38;5;28;01mfrom\u001b[39;00m \u001b[38;5;21;01m.\u001b[39;00m\u001b[38;5;21;01m_trifinder\u001b[39;00m \u001b[38;5;28;01mimport\u001b[39;00m TriFinder, TrapezoidMapTriFinder\n\u001b[0;32m      8\u001b[0m \u001b[38;5;28;01mfrom\u001b[39;00m \u001b[38;5;21;01m.\u001b[39;00m\u001b[38;5;21;01m_triinterpolate\u001b[39;00m \u001b[38;5;28;01mimport\u001b[39;00m (TriInterpolator, LinearTriInterpolator,\n\u001b[0;32m      9\u001b[0m                               CubicTriInterpolator)\n",
      "File \u001b[1;32mc:\\Users\\Rohan\\anaconda3\\envs\\carbon-seq-model\\lib\\site-packages\\matplotlib\\tri\\_tricontour.py:82\u001b[0m\n\u001b[0;32m     78\u001b[0m         \u001b[38;5;28mself\u001b[39m\u001b[38;5;241m.\u001b[39m_process_contour_level_args(args, z\u001b[38;5;241m.\u001b[39mdtype)\n\u001b[0;32m     79\u001b[0m         \u001b[38;5;28;01mreturn\u001b[39;00m (tri, z)\n\u001b[1;32m---> 82\u001b[0m \u001b[43m_docstring\u001b[49m\u001b[38;5;241;43m.\u001b[39;49m\u001b[43minterpd\u001b[49m\u001b[38;5;241;43m.\u001b[39;49m\u001b[43mregister\u001b[49m(_tricontour_doc\u001b[38;5;241m=\u001b[39m\u001b[38;5;124m\"\"\"\u001b[39m\n\u001b[0;32m     83\u001b[0m \u001b[38;5;124mDraw contour \u001b[39m\u001b[38;5;132;01m%%\u001b[39;00m\u001b[38;5;124m(type)s on an unstructured triangular grid.\u001b[39m\n\u001b[0;32m     84\u001b[0m \n\u001b[0;32m     85\u001b[0m \u001b[38;5;124mCall signatures::\u001b[39m\n\u001b[0;32m     86\u001b[0m \n\u001b[0;32m     87\u001b[0m \u001b[38;5;124m    \u001b[39m\u001b[38;5;132;01m%%\u001b[39;00m\u001b[38;5;124m(func)s(triangulation, z, [levels], ...)\u001b[39m\n\u001b[0;32m     88\u001b[0m \u001b[38;5;124m    \u001b[39m\u001b[38;5;132;01m%%\u001b[39;00m\u001b[38;5;124m(func)s(x, y, z, [levels], *, [triangles=triangles], [mask=mask], ...)\u001b[39m\n\u001b[0;32m     89\u001b[0m \n\u001b[0;32m     90\u001b[0m \u001b[38;5;124mThe triangular grid can be specified either by passing a `.Triangulation`\u001b[39m\n\u001b[0;32m     91\u001b[0m \u001b[38;5;124mobject as the first parameter, or by passing the points *x*, *y* and\u001b[39m\n\u001b[0;32m     92\u001b[0m \u001b[38;5;124moptionally the *triangles* and a *mask*. See `.Triangulation` for an\u001b[39m\n\u001b[0;32m     93\u001b[0m \u001b[38;5;124mexplanation of these parameters. If neither of *triangulation* or\u001b[39m\n\u001b[0;32m     94\u001b[0m \u001b[38;5;124m*triangles* are given, the triangulation is calculated on the fly.\u001b[39m\n\u001b[0;32m     95\u001b[0m \n\u001b[0;32m     96\u001b[0m \u001b[38;5;124mIt is possible to pass *triangles* positionally, i.e.\u001b[39m\n\u001b[0;32m     97\u001b[0m \u001b[38;5;124m``\u001b[39m\u001b[38;5;132;01m%%\u001b[39;00m\u001b[38;5;124m(func)s(x, y, triangles, z, ...)``. However, this is discouraged. For more\u001b[39m\n\u001b[0;32m     98\u001b[0m \u001b[38;5;124mclarity, pass *triangles* via keyword argument.\u001b[39m\n\u001b[0;32m     99\u001b[0m \n\u001b[0;32m    100\u001b[0m \u001b[38;5;124mParameters\u001b[39m\n\u001b[0;32m    101\u001b[0m \u001b[38;5;124m----------\u001b[39m\n\u001b[0;32m    102\u001b[0m \u001b[38;5;124mtriangulation : `.Triangulation`, optional\u001b[39m\n\u001b[0;32m    103\u001b[0m \u001b[38;5;124m    An already created triangular grid.\u001b[39m\n\u001b[0;32m    104\u001b[0m \n\u001b[0;32m    105\u001b[0m \u001b[38;5;124mx, y, triangles, mask\u001b[39m\n\u001b[0;32m    106\u001b[0m \u001b[38;5;124m    Parameters defining the triangular grid. See `.Triangulation`.\u001b[39m\n\u001b[0;32m    107\u001b[0m \u001b[38;5;124m    This is mutually exclusive with specifying *triangulation*.\u001b[39m\n\u001b[0;32m    108\u001b[0m \n\u001b[0;32m    109\u001b[0m \u001b[38;5;124mz : array-like\u001b[39m\n\u001b[0;32m    110\u001b[0m \u001b[38;5;124m    The height values over which the contour is drawn.  Color-mapping is\u001b[39m\n\u001b[0;32m    111\u001b[0m \u001b[38;5;124m    controlled by *cmap*, *norm*, *vmin*, and *vmax*.\u001b[39m\n\u001b[0;32m    112\u001b[0m \n\u001b[0;32m    113\u001b[0m \u001b[38;5;124m    .. note::\u001b[39m\n\u001b[0;32m    114\u001b[0m \u001b[38;5;124m        All values in *z* must be finite. Hence, nan and inf values must\u001b[39m\n\u001b[0;32m    115\u001b[0m \u001b[38;5;124m        either be removed or `~.Triangulation.set_mask` be used.\u001b[39m\n\u001b[0;32m    116\u001b[0m \n\u001b[0;32m    117\u001b[0m \u001b[38;5;124mlevels : int or array-like, optional\u001b[39m\n\u001b[0;32m    118\u001b[0m \u001b[38;5;124m    Determines the number and positions of the contour lines / regions.\u001b[39m\n\u001b[0;32m    119\u001b[0m \n\u001b[0;32m    120\u001b[0m \u001b[38;5;124m    If an int *n*, use `~matplotlib.ticker.MaxNLocator`, which tries to\u001b[39m\n\u001b[0;32m    121\u001b[0m \u001b[38;5;124m    automatically choose no more than *n+1* \u001b[39m\u001b[38;5;124m\"\u001b[39m\u001b[38;5;124mnice\u001b[39m\u001b[38;5;124m\"\u001b[39m\u001b[38;5;124m contour levels between\u001b[39m\n\u001b[0;32m    122\u001b[0m \u001b[38;5;124m    between minimum and maximum numeric values of *Z*.\u001b[39m\n\u001b[0;32m    123\u001b[0m \n\u001b[0;32m    124\u001b[0m \u001b[38;5;124m    If array-like, draw contour lines at the specified levels.  The values must\u001b[39m\n\u001b[0;32m    125\u001b[0m \u001b[38;5;124m    be in increasing order.\u001b[39m\n\u001b[0;32m    126\u001b[0m \n\u001b[0;32m    127\u001b[0m \u001b[38;5;124mReturns\u001b[39m\n\u001b[0;32m    128\u001b[0m \u001b[38;5;124m-------\u001b[39m\n\u001b[0;32m    129\u001b[0m \u001b[38;5;124m`~matplotlib.tri.TriContourSet`\u001b[39m\n\u001b[0;32m    130\u001b[0m \n\u001b[0;32m    131\u001b[0m \u001b[38;5;124mOther Parameters\u001b[39m\n\u001b[0;32m    132\u001b[0m \u001b[38;5;124m----------------\u001b[39m\n\u001b[0;32m    133\u001b[0m \u001b[38;5;124mcolors : :mpltype:`color` or list of :mpltype:`color`, optional\u001b[39m\n\u001b[0;32m    134\u001b[0m \u001b[38;5;124m    The colors of the levels, i.e., the contour \u001b[39m\u001b[38;5;132;01m%%\u001b[39;00m\u001b[38;5;124m(type)s.\u001b[39m\n\u001b[0;32m    135\u001b[0m \n\u001b[0;32m    136\u001b[0m \u001b[38;5;124m    The sequence is cycled for the levels in ascending order. If the sequence\u001b[39m\n\u001b[0;32m    137\u001b[0m \u001b[38;5;124m    is shorter than the number of levels, it is repeated.\u001b[39m\n\u001b[0;32m    138\u001b[0m \n\u001b[0;32m    139\u001b[0m \u001b[38;5;124m    As a shortcut, single color strings may be used in place of one-element\u001b[39m\n\u001b[0;32m    140\u001b[0m \u001b[38;5;124m    lists, i.e. ``\u001b[39m\u001b[38;5;124m'\u001b[39m\u001b[38;5;124mred\u001b[39m\u001b[38;5;124m'\u001b[39m\u001b[38;5;124m`` instead of ``[\u001b[39m\u001b[38;5;124m'\u001b[39m\u001b[38;5;124mred\u001b[39m\u001b[38;5;124m'\u001b[39m\u001b[38;5;124m]`` to color all levels with the\u001b[39m\n\u001b[0;32m    141\u001b[0m \u001b[38;5;124m    same color. This shortcut does only work for color strings, not for other\u001b[39m\n\u001b[0;32m    142\u001b[0m \u001b[38;5;124m    ways of specifying colors.\u001b[39m\n\u001b[0;32m    143\u001b[0m \n\u001b[0;32m    144\u001b[0m \u001b[38;5;124m    By default (value *None*), the colormap specified by *cmap* will be used.\u001b[39m\n\u001b[0;32m    145\u001b[0m \n\u001b[0;32m    146\u001b[0m \u001b[38;5;124malpha : float, default: 1\u001b[39m\n\u001b[0;32m    147\u001b[0m \u001b[38;5;124m    The alpha blending value, between 0 (transparent) and 1 (opaque).\u001b[39m\n\u001b[0;32m    148\u001b[0m \n\u001b[0;32m    149\u001b[0m \u001b[38;5;132;01m%(cmap_doc)s\u001b[39;00m\n\u001b[0;32m    150\u001b[0m \n\u001b[0;32m    151\u001b[0m \u001b[38;5;124m    This parameter is ignored if *colors* is set.\u001b[39m\n\u001b[0;32m    152\u001b[0m \n\u001b[0;32m    153\u001b[0m \u001b[38;5;132;01m%(norm_doc)s\u001b[39;00m\n\u001b[0;32m    154\u001b[0m \n\u001b[0;32m    155\u001b[0m \u001b[38;5;124m    This parameter is ignored if *colors* is set.\u001b[39m\n\u001b[0;32m    156\u001b[0m \n\u001b[0;32m    157\u001b[0m \u001b[38;5;132;01m%(vmin_vmax_doc)s\u001b[39;00m\n\u001b[0;32m    158\u001b[0m \n\u001b[0;32m    159\u001b[0m \u001b[38;5;124m    If *vmin* or *vmax* are not given, the default color scaling is based on\u001b[39m\n\u001b[0;32m    160\u001b[0m \u001b[38;5;124m    *levels*.\u001b[39m\n\u001b[0;32m    161\u001b[0m \n\u001b[0;32m    162\u001b[0m \u001b[38;5;124m    This parameter is ignored if *colors* is set.\u001b[39m\n\u001b[0;32m    163\u001b[0m \n\u001b[0;32m    164\u001b[0m \u001b[38;5;124morigin : \u001b[39m\u001b[38;5;124m{\u001b[39m\u001b[38;5;124m*None*, \u001b[39m\u001b[38;5;124m'\u001b[39m\u001b[38;5;124mupper\u001b[39m\u001b[38;5;124m'\u001b[39m\u001b[38;5;124m, \u001b[39m\u001b[38;5;124m'\u001b[39m\u001b[38;5;124mlower\u001b[39m\u001b[38;5;124m'\u001b[39m\u001b[38;5;124m, \u001b[39m\u001b[38;5;124m'\u001b[39m\u001b[38;5;124mimage\u001b[39m\u001b[38;5;124m'\u001b[39m\u001b[38;5;124m}, default: None\u001b[39m\n\u001b[0;32m    165\u001b[0m \u001b[38;5;124m    Determines the orientation and exact position of *z* by specifying the\u001b[39m\n\u001b[0;32m    166\u001b[0m \u001b[38;5;124m    position of ``z[0, 0]``.  This is only relevant, if *X*, *Y* are not given.\u001b[39m\n\u001b[0;32m    167\u001b[0m \n\u001b[0;32m    168\u001b[0m \u001b[38;5;124m    - *None*: ``z[0, 0]`` is at X=0, Y=0 in the lower left corner.\u001b[39m\n\u001b[0;32m    169\u001b[0m \u001b[38;5;124m    - \u001b[39m\u001b[38;5;124m'\u001b[39m\u001b[38;5;124mlower\u001b[39m\u001b[38;5;124m'\u001b[39m\u001b[38;5;124m: ``z[0, 0]`` is at X=0.5, Y=0.5 in the lower left corner.\u001b[39m\n\u001b[0;32m    170\u001b[0m \u001b[38;5;124m    - \u001b[39m\u001b[38;5;124m'\u001b[39m\u001b[38;5;124mupper\u001b[39m\u001b[38;5;124m'\u001b[39m\u001b[38;5;124m: ``z[0, 0]`` is at X=N+0.5, Y=0.5 in the upper left corner.\u001b[39m\n\u001b[0;32m    171\u001b[0m \u001b[38;5;124m    - \u001b[39m\u001b[38;5;124m'\u001b[39m\u001b[38;5;124mimage\u001b[39m\u001b[38;5;124m'\u001b[39m\u001b[38;5;124m: Use the value from :rc:`image.origin`.\u001b[39m\n\u001b[0;32m    172\u001b[0m \n\u001b[0;32m    173\u001b[0m \u001b[38;5;124mextent : (x0, x1, y0, y1), optional\u001b[39m\n\u001b[0;32m    174\u001b[0m \u001b[38;5;124m    If *origin* is not *None*, then *extent* is interpreted as in `.imshow`: it\u001b[39m\n\u001b[0;32m    175\u001b[0m \u001b[38;5;124m    gives the outer pixel boundaries. In this case, the position of z[0, 0] is\u001b[39m\n\u001b[0;32m    176\u001b[0m \u001b[38;5;124m    the center of the pixel, not a corner. If *origin* is *None*, then\u001b[39m\n\u001b[0;32m    177\u001b[0m \u001b[38;5;124m    (*x0*, *y0*) is the position of z[0, 0], and (*x1*, *y1*) is the position\u001b[39m\n\u001b[0;32m    178\u001b[0m \u001b[38;5;124m    of z[-1, -1].\u001b[39m\n\u001b[0;32m    179\u001b[0m \n\u001b[0;32m    180\u001b[0m \u001b[38;5;124m    This argument is ignored if *X* and *Y* are specified in the call to\u001b[39m\n\u001b[0;32m    181\u001b[0m \u001b[38;5;124m    contour.\u001b[39m\n\u001b[0;32m    182\u001b[0m \n\u001b[0;32m    183\u001b[0m \u001b[38;5;124mlocator : ticker.Locator subclass, optional\u001b[39m\n\u001b[0;32m    184\u001b[0m \u001b[38;5;124m    The locator is used to determine the contour levels if they are not given\u001b[39m\n\u001b[0;32m    185\u001b[0m \u001b[38;5;124m    explicitly via *levels*.\u001b[39m\n\u001b[0;32m    186\u001b[0m \u001b[38;5;124m    Defaults to `~.ticker.MaxNLocator`.\u001b[39m\n\u001b[0;32m    187\u001b[0m \n\u001b[0;32m    188\u001b[0m \u001b[38;5;124mextend : \u001b[39m\u001b[38;5;124m{\u001b[39m\u001b[38;5;124m'\u001b[39m\u001b[38;5;124mneither\u001b[39m\u001b[38;5;124m'\u001b[39m\u001b[38;5;124m, \u001b[39m\u001b[38;5;124m'\u001b[39m\u001b[38;5;124mboth\u001b[39m\u001b[38;5;124m'\u001b[39m\u001b[38;5;124m, \u001b[39m\u001b[38;5;124m'\u001b[39m\u001b[38;5;124mmin\u001b[39m\u001b[38;5;124m'\u001b[39m\u001b[38;5;124m, \u001b[39m\u001b[38;5;124m'\u001b[39m\u001b[38;5;124mmax\u001b[39m\u001b[38;5;124m'\u001b[39m\u001b[38;5;124m}, default: \u001b[39m\u001b[38;5;124m'\u001b[39m\u001b[38;5;124mneither\u001b[39m\u001b[38;5;124m'\u001b[39m\n\u001b[0;32m    189\u001b[0m \u001b[38;5;124m    Determines the ``\u001b[39m\u001b[38;5;132;01m%%\u001b[39;00m\u001b[38;5;124m(func)s``-coloring of values that are outside the\u001b[39m\n\u001b[0;32m    190\u001b[0m \u001b[38;5;124m    *levels* range.\u001b[39m\n\u001b[0;32m    191\u001b[0m \n\u001b[0;32m    192\u001b[0m \u001b[38;5;124m    If \u001b[39m\u001b[38;5;124m'\u001b[39m\u001b[38;5;124mneither\u001b[39m\u001b[38;5;124m'\u001b[39m\u001b[38;5;124m, values outside the *levels* range are not colored.  If \u001b[39m\u001b[38;5;124m'\u001b[39m\u001b[38;5;124mmin\u001b[39m\u001b[38;5;124m'\u001b[39m\u001b[38;5;124m,\u001b[39m\n\u001b[0;32m    193\u001b[0m \u001b[38;5;124m    \u001b[39m\u001b[38;5;124m'\u001b[39m\u001b[38;5;124mmax\u001b[39m\u001b[38;5;124m'\u001b[39m\u001b[38;5;124m or \u001b[39m\u001b[38;5;124m'\u001b[39m\u001b[38;5;124mboth\u001b[39m\u001b[38;5;124m'\u001b[39m\u001b[38;5;124m, color the values below, above or below and above the\u001b[39m\n\u001b[0;32m    194\u001b[0m \u001b[38;5;124m    *levels* range.\u001b[39m\n\u001b[0;32m    195\u001b[0m \n\u001b[0;32m    196\u001b[0m \u001b[38;5;124m    Values below ``min(levels)`` and above ``max(levels)`` are mapped to the\u001b[39m\n\u001b[0;32m    197\u001b[0m \u001b[38;5;124m    under/over values of the `.Colormap`. Note that most colormaps do not have\u001b[39m\n\u001b[0;32m    198\u001b[0m \u001b[38;5;124m    dedicated colors for these by default, so that the over and under values\u001b[39m\n\u001b[0;32m    199\u001b[0m \u001b[38;5;124m    are the edge values of the colormap.  You may want to set these values\u001b[39m\n\u001b[0;32m    200\u001b[0m \u001b[38;5;124m    explicitly using `.Colormap.set_under` and `.Colormap.set_over`.\u001b[39m\n\u001b[0;32m    201\u001b[0m \n\u001b[0;32m    202\u001b[0m \u001b[38;5;124m    .. note::\u001b[39m\n\u001b[0;32m    203\u001b[0m \n\u001b[0;32m    204\u001b[0m \u001b[38;5;124m        An existing `.TriContourSet` does not get notified if properties of its\u001b[39m\n\u001b[0;32m    205\u001b[0m \u001b[38;5;124m        colormap are changed. Therefore, an explicit call to\u001b[39m\n\u001b[0;32m    206\u001b[0m \u001b[38;5;124m        `.ContourSet.changed()` is needed after modifying the colormap. The\u001b[39m\n\u001b[0;32m    207\u001b[0m \u001b[38;5;124m        explicit call can be left out, if a colorbar is assigned to the\u001b[39m\n\u001b[0;32m    208\u001b[0m \u001b[38;5;124m        `.TriContourSet` because it internally calls `.ContourSet.changed()`.\u001b[39m\n\u001b[0;32m    209\u001b[0m \n\u001b[0;32m    210\u001b[0m \u001b[38;5;124mxunits, yunits : registered units, optional\u001b[39m\n\u001b[0;32m    211\u001b[0m \u001b[38;5;124m    Override axis units by specifying an instance of a\u001b[39m\n\u001b[0;32m    212\u001b[0m \u001b[38;5;124m    :class:`matplotlib.units.ConversionInterface`.\u001b[39m\n\u001b[0;32m    213\u001b[0m \n\u001b[0;32m    214\u001b[0m \u001b[38;5;124mantialiased : bool, optional\u001b[39m\n\u001b[0;32m    215\u001b[0m \u001b[38;5;124m    Enable antialiasing, overriding the defaults.  For\u001b[39m\n\u001b[0;32m    216\u001b[0m \u001b[38;5;124m    filled contours, the default is *True*.  For line contours,\u001b[39m\n\u001b[0;32m    217\u001b[0m \u001b[38;5;124m    it is taken from :rc:`lines.antialiased`.\u001b[39m\u001b[38;5;124m\"\"\"\u001b[39m \u001b[38;5;241m%\u001b[39m _docstring\u001b[38;5;241m.\u001b[39minterpd\u001b[38;5;241m.\u001b[39mparams)\n\u001b[0;32m    220\u001b[0m \u001b[38;5;129m@_docstring\u001b[39m\u001b[38;5;241m.\u001b[39mSubstitution(func\u001b[38;5;241m=\u001b[39m\u001b[38;5;124m'\u001b[39m\u001b[38;5;124mtricontour\u001b[39m\u001b[38;5;124m'\u001b[39m, \u001b[38;5;28mtype\u001b[39m\u001b[38;5;241m=\u001b[39m\u001b[38;5;124m'\u001b[39m\u001b[38;5;124mlines\u001b[39m\u001b[38;5;124m'\u001b[39m)\n\u001b[0;32m    221\u001b[0m \u001b[38;5;129m@_docstring\u001b[39m\u001b[38;5;241m.\u001b[39minterpd\n\u001b[0;32m    222\u001b[0m \u001b[38;5;28;01mdef\u001b[39;00m \u001b[38;5;21mtricontour\u001b[39m(ax, \u001b[38;5;241m*\u001b[39margs, \u001b[38;5;241m*\u001b[39m\u001b[38;5;241m*\u001b[39mkwargs):\n\u001b[0;32m    223\u001b[0m \u001b[38;5;250m    \u001b[39m\u001b[38;5;124;03m\"\"\"\u001b[39;00m\n\u001b[0;32m    224\u001b[0m \u001b[38;5;124;03m    %(_tricontour_doc)s\u001b[39;00m\n\u001b[0;32m    225\u001b[0m \n\u001b[1;32m   (...)\u001b[0m\n\u001b[0;32m    243\u001b[0m \u001b[38;5;124;03m        number of contour levels it will be repeated as necessary.\u001b[39;00m\n\u001b[0;32m    244\u001b[0m \u001b[38;5;124;03m    \"\"\"\u001b[39;00m\n",
      "\u001b[1;31mAttributeError\u001b[0m: '_ArtistPropertiesSubstitution' object has no attribute 'register'"
     ]
    }
   ],
   "source": [
    "import numpy as np\n",
    "import pandas as pd\n",
    "import matplotlib.pyplot as plt"
   ]
  },
  {
   "cell_type": "code",
   "execution_count": 7,
   "id": "fb128556",
   "metadata": {},
   "outputs": [
    {
     "name": "stdout",
     "output_type": "stream",
     "text": [
      "[np.float64(-76.18850791), np.float64(-68.07518857), np.float64(49.5531477), np.float64(51.9423968)]\n",
      "-76.18850791 -68.07518857\n",
      "49.5531477 51.9423968\n"
     ]
    }
   ],
   "source": [
    "# Load the CSV file\n",
    "df_loc = pd.read_csv('data/feathermoss-2018/loc.csv', delimiter=';', header=0)\n",
    "\n",
    "# Find the minimum and maximum X and Y values\n",
    "min_longitude = df_loc['X'].min()\n",
    "max_longitude = df_loc['X'].max()\n",
    "min_latitude = df_loc['Y'].min()\n",
    "max_latitude = df_loc['Y'].max()\n",
    "# Convert to a list that contains bounding regions in coordinates/\n",
    "bounding_box = [min_longitude, max_longitude, min_latitude, max_latitude]\n",
    "\n",
    "print(bounding_box)\n",
    "\n",
    "print(min_longitude, max_longitude)\n",
    "print(min_latitude, max_latitude)"
   ]
  },
  {
   "cell_type": "code",
   "execution_count": 10,
   "id": "718c15d6",
   "metadata": {},
   "outputs": [],
   "source": [
    "from owslib.wcs import WebCoverageService\n",
    "wcs = WebCoverageService('http://maps.isric.org/mapserv?map=/map/phh2o.map',\n",
    "                         version='2.0.1')\n",
    "crs = \"http://www.opengis.net/def/crs/EPSG/0/152160\""
   ]
  },
  {
   "cell_type": "code",
   "execution_count": 13,
   "id": "d198e939",
   "metadata": {},
   "outputs": [],
   "source": [
    "cov_id = 'phh2o_0-5cm_mean'\n",
    "ph_0_5 = wcs.contents[cov_id]\n",
    "ph_0_5.supportedFormats\n",
    "subsets = [('X', -1784000, -1140000), ('Y', 1356000, 1863000)]\n",
    "\n",
    "response = wcs.getCoverage(\n",
    "    identifier=[cov_id], \n",
    "    crs=crs,\n",
    "    subsets=subsets, \n",
    "    resx=250, resy=250, \n",
    "    format=ph_0_5.supportedFormats[0])\n",
    "\n",
    "with open('./data/Senegal_pH_0-5_mean.tif', 'wb') as file:\n",
    "    file.write(response.read())"
   ]
  },
  {
   "cell_type": "code",
   "execution_count": null,
   "id": "c6ff6eae",
   "metadata": {},
   "outputs": [],
   "source": [
    "import rasterio\n",
    "from rasterio import plot\n",
    "\n",
    "ph = rasterio.open(\"./data/Senegal_pH_0-5_mean.tif\", driver=\"GTiff\")\n",
    "%matplotlib inline\n",
    "plot.show(ph, title='Mean pH between 0 and 5 cm deep in Senegal', cmap='gist_ncar')"
   ]
  },
  {
   "cell_type": "code",
   "execution_count": null,
   "id": "b276d595",
   "metadata": {},
   "outputs": [],
   "source": []
  }
 ],
 "metadata": {
  "kernelspec": {
   "display_name": "carbon-seq-model",
   "language": "python",
   "name": "python3"
  },
  "language_info": {
   "codemirror_mode": {
    "name": "ipython",
    "version": 3
   },
   "file_extension": ".py",
   "mimetype": "text/x-python",
   "name": "python",
   "nbconvert_exporter": "python",
   "pygments_lexer": "ipython3",
   "version": "3.10.16"
  }
 },
 "nbformat": 4,
 "nbformat_minor": 5
}
