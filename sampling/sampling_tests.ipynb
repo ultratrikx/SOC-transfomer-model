{
 "cells": [
  {
   "cell_type": "code",
   "execution_count": null,
   "metadata": {},
   "outputs": [],
   "source": [
    "import geopandas as gpd\n",
    "import numpy as np\n",
    "from shapely.geometry import Point, box\n",
    "import contextily as ctx\n",
    "import matplotlib.pyplot as plt\n",
    "\n",
    "# Load peatland polygon shapefile\n",
    "peatland_gdf = gpd.read_file('./canada_peats/Canada_Peatland.shp')\n",
    "\n",
    "# Ensure CRS is WGS-84\n",
    "if peatland_gdf.crs is None:\n",
    "\tpeatland_gdf.set_crs(epsg=4326, inplace=True)\n",
    "else:\n",
    "\tpeatland_gdf = peatland_gdf.to_crs(epsg=4326)\n",
    "\n",
    "# Get bounding box of peatland areas\n",
    "xmin, ymin, xmax, ymax = peatland_gdf.total_bounds\n",
    "print(f\"Bounding Box: xmin={xmin}, ymin={ymin}, xmax={xmax}, ymax={ymax}\")\n",
    "\n",
    "\n",
    "# Display initial map showing peatland boundaries\n",
    "fig, ax = plt.subplots(figsize=(12, 12))\n",
    "\n",
    "# Convert to Web Mercator for plotting\n",
    "peatland_gdf_web = peatland_gdf.to_crs(epsg=3857)\n",
    "\n",
    "# Plot the peatland data first\n",
    "peatland_gdf_web.plot(ax=ax, color='red', edgecolor='blue', alpha=0.5)\n",
    "\n",
    "# Set the plot limits\n",
    "ax.set_xlim(peatland_gdf_web.total_bounds[[0,2]])\n",
    "ax.set_ylim(peatland_gdf_web.total_bounds[[1,3]])\n",
    "\n",
    "# Add basemap after plotting the data\n",
    "ctx.add_basemap(ax, source=ctx.providers.OpenStreetMap.Mapnik)\n",
    "\n",
    "plt.title('Canadian Peatland Boundaries')\n",
    "\n",
    "\n",
    "plt.show()\n"
   ]
  },
  {
   "cell_type": "code",
   "execution_count": null,
   "metadata": {},
   "outputs": [],
   "source": [
    "# # Grid size in degrees (approximate for WGS-84, adjust if needed)\n",
    "# grid_size = 0.0075  # Approximate degrees for 750m (varies by latitude)\n",
    "\n",
    "# # Generate grid cells\n",
    "# grid_cells = []\n",
    "# x_coords = np.arange(xmin, xmax, grid_size)\n",
    "# y_coords = np.arange(ymin, ymax, grid_size)\n",
    "\n",
    "# for x in x_coords:\n",
    "#     for y in y_coords:\n",
    "#         grid_cells.append(box(x, y, x + grid_size, y + grid_size))\n",
    "\n",
    "# # Create GeoDataFrame for grid\n",
    "# grid = gpd.GeoDataFrame(geometry=grid_cells, crs=peatland_gdf.crs)\n",
    "\n",
    "# # Intersect grid with peatland polygons\n",
    "# grid_clipped = gpd.overlay(grid, peatland_gdf, how='intersection')\n",
    "\n",
    "# # Get centroids as sampling points\n",
    "# grid_points = grid_clipped.centroid\n",
    "# grid_points_gdf = gpd.GeoDataFrame(geometry=grid_points, crs=peatland_gdf.crs)\n",
    "\n",
    "# # Save points as GeoJSON or Shapefile\n",
    "# grid_points_gdf.to_file('./systematic_sampled/systematic_peatland_points.shp')\n",
    "\n"
   ]
  },
  {
   "cell_type": "code",
   "execution_count": null,
   "metadata": {},
   "outputs": [],
   "source": []
  }
 ],
 "metadata": {
  "kernelspec": {
   "display_name": "venv",
   "language": "python",
   "name": "python3"
  },
  "language_info": {
   "codemirror_mode": {
    "name": "ipython",
    "version": 3
   },
   "file_extension": ".py",
   "mimetype": "text/x-python",
   "name": "python",
   "nbconvert_exporter": "python",
   "pygments_lexer": "ipython3",
   "version": "3.12.3"
  }
 },
 "nbformat": 4,
 "nbformat_minor": 2
}
