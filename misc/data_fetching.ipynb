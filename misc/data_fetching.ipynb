{
 "cells": [
  {
   "cell_type": "code",
   "execution_count": 1,
   "id": "a53ed4ae",
   "metadata": {},
   "outputs": [],
   "source": [
    "import pandas as pd\n",
    "import requests\n",
    "import os\n",
    "import json\n",
    "import time\n"
   ]
  },
  {
   "cell_type": "code",
   "execution_count": 14,
   "id": "05bedb0d",
   "metadata": {},
   "outputs": [],
   "source": [
    "# Constants\n",
    "M2M_API_URL = \"https://m2m.cr.usgs.gov/api/api/json/stable\"  # Base URL for USGS M2M API\n",
    "LOGIN_ENDPOINT = f\"{M2M_API_URL}/login\"\n",
    "SEARCH_ENDPOINT = f\"{M2M_API_URL}/scene-search\"\n",
    "DOWNLOAD_ENDPOINT = f\"{M2M_API_URL}/download\"\n",
    "\n",
    "\n",
    "# Load your NASA Earthdata credentials\n",
    "USERNAME = \"rohanth\"  # Replace with your Earthdata username\n",
    "PASSWORD = \"fmv@azm-cvh4HKW-egm\"  # Replace with your Earthdata password\n",
    "API_TOKEN = \"wm0DyYKik@qdHwdYloSFZwsaJPITZ0aCPljss67jttT9@dVSsSxuDDxb_pJD9uga\"\n",
    "jU_3jQqqfTNmuRLDchCnlJMV9eB790yDCYyJkywFKWQpm4Pr4kEZxB3oTj0IP_0M"
   ]
  },
  {
   "cell_type": "code",
   "execution_count": 15,
   "id": "5b26e03c",
   "metadata": {},
   "outputs": [],
   "source": [
    "# Function to authenticate and fetch data\n",
    "def search_landsat_granules(latitude, longitude, platform=\"LANDSAT_8\"):\n",
    "    \"\"\"\n",
    "    Search Landsat granules for the given coordinates.\n",
    "    \"\"\"\n",
    "    headers = {\n",
    "        \"Authorization\": f\"Bearer {API_TOKEN}\"\n",
    "    }\n",
    "    params = {\n",
    "        \"bounding_box\": f\"{longitude-0.05},{latitude-0.05},{longitude+0.05},{latitude+0.05}\",\n",
    "        \"platform\": platform,\n",
    "        \"collection_concept_id\": \"C2032345237-LPCLOUD\",  # Replace with actual Landsat SR collection ID\n",
    "        \"page_size\": 1,\n",
    "        \"temporal\": \"2024-06-01T00:00:00Z,2024-06-30T23:59:59Z\",  # Adjust date range if needed\n",
    "    }\n",
    "\n",
    "    response = requests.get(SEARCH_ENDPOINT, headers=headers, params=params)\n",
    "\n",
    "    if response.status_code == 200:\n",
    "        granules = response.json()\n",
    "        if granules.get(\"feed\", {}).get(\"entry\"):\n",
    "            return granules[\"feed\"][\"entry\"][0][\"links\"]\n",
    "        else:\n",
    "            return None\n",
    "    else:\n",
    "        print(f\"Error: {response.status_code}, {response.text}\")\n",
    "        return None\n"
   ]
  },
  {
   "cell_type": "code",
   "execution_count": 16,
   "id": "82a9af93",
   "metadata": {},
   "outputs": [],
   "source": [
    "# Main logic\n",
    "def fetch_landsat_images(csv_file, output_folder):\n",
    "    \"\"\"\n",
    "    Fetch Landsat SR TIFF images for coordinates in a CSV file.\n",
    "    \"\"\"\n",
    "    # Read CSV file\n",
    "    data = pd.read_csv(csv_file)\n",
    "\n",
    "    if not os.path.exists(output_folder):\n",
    "        os.makedirs(output_folder)\n",
    "\n",
    "    for index, row in data.iterrows():\n",
    "        latitude = row[\"latitude\"]\n",
    "        longitude = row[\"longitude\"]\n",
    "\n",
    "        print(f\"Searching Landsat images for lat: {latitude}, lon: {longitude}\")\n",
    "        granule_links = search_landsat_granules(latitude, longitude)\n",
    "\n",
    "        if granule_links:\n",
    "            first_link = next((link for link in granule_links if \"data\" in link.get(\"rel\", \"\")), None)\n",
    "            if first_link:\n",
    "                download_url = first_link[\"href\"]\n",
    "                file_name = os.path.join(output_folder, os.path.basename(download_url))\n",
    "\n",
    "                # Download file\n",
    "                print(f\"Downloading: {download_url}\")\n",
    "                file_response = requests.get(download_url, headers={\"Authorization\": f\"Bearer {API_TOKEN}\"})\n",
    "                if file_response.status_code == 200:\n",
    "                    with open(file_name, \"wb\") as f:\n",
    "                        f.write(file_response.content)\n",
    "                    print(f\"Saved to {file_name}\")\n",
    "                else:\n",
    "                    print(f\"Failed to download {download_url}: {file_response.status_code}\")\n",
    "        else:\n",
    "            print(f\"No granules found for lat: {latitude}, lon: {longitude}\")\n"
   ]
  },
  {
   "cell_type": "code",
   "execution_count": 17,
   "id": "a8582107",
   "metadata": {},
   "outputs": [
    {
     "name": "stdout",
     "output_type": "stream",
     "text": [
      "Searching Landsat images for lat: 48.799, lon: -123.056\n",
      "Error: 401, {\"errors\":[\"Token does not exist\"]}\n",
      "No granules found for lat: 48.799, lon: -123.056\n",
      "Searching Landsat images for lat: 61.18, lon: -149.105\n",
      "Error: 401, {\"errors\":[\"Token does not exist\"]}\n",
      "No granules found for lat: 61.18, lon: -149.105\n",
      "Searching Landsat images for lat: 44.12, lon: -71.195\n",
      "Error: 401, {\"errors\":[\"Token does not exist\"]}\n",
      "No granules found for lat: 44.12, lon: -71.195\n",
      "Searching Landsat images for lat: 34.184, lon: -83.561\n",
      "Error: 401, {\"errors\":[\"Token does not exist\"]}\n",
      "No granules found for lat: 34.184, lon: -83.561\n",
      "Searching Landsat images for lat: 54.725, lon: -101.861\n",
      "Error: 401, {\"errors\":[\"Token does not exist\"]}\n",
      "No granules found for lat: 54.725, lon: -101.861\n",
      "Searching Landsat images for lat: 46.354, lon: -84.303\n",
      "Error: 401, {\"errors\":[\"Token does not exist\"]}\n",
      "No granules found for lat: 46.354, lon: -84.303\n",
      "Searching Landsat images for lat: 37.865, lon: -119.538\n",
      "Error: 401, {\"errors\":[\"Token does not exist\"]}\n",
      "No granules found for lat: 37.865, lon: -119.538\n",
      "Searching Landsat images for lat: 45.285, lon: -111.383\n",
      "Error: 401, {\"errors\":[\"Token does not exist\"]}\n",
      "No granules found for lat: 45.285, lon: -111.383\n",
      "Searching Landsat images for lat: 42.435, lon: -75.065\n",
      "Error: 401, {\"errors\":[\"Token does not exist\"]}\n",
      "No granules found for lat: 42.435, lon: -75.065\n",
      "Searching Landsat images for lat: 58.473, lon: -113.815\n",
      "Error: 401, {\"errors\":[\"Token does not exist\"]}\n",
      "No granules found for lat: 58.473, lon: -113.815\n"
     ]
    }
   ],
   "source": [
    "# Example usage\n",
    "csv_file = \"north_american_forests.csv\"  # Path to your CSV file with 'latitude' and 'longitude' columns\n",
    "output_folder = \"landsat_images\"  # Folder to save downloaded images\n",
    "fetch_landsat_images(csv_file, output_folder)"
   ]
  },
  {
   "cell_type": "code",
   "execution_count": null,
   "id": "f01fa9b4",
   "metadata": {},
   "outputs": [],
   "source": []
  }
 ],
 "metadata": {
  "kernelspec": {
   "display_name": "Python 3",
   "language": "python",
   "name": "python3"
  },
  "language_info": {
   "codemirror_mode": {
    "name": "ipython",
    "version": 3
   },
   "file_extension": ".py",
   "mimetype": "text/x-python",
   "name": "python",
   "nbconvert_exporter": "python",
   "pygments_lexer": "ipython3",
   "version": "3.12.1"
  }
 },
 "nbformat": 4,
 "nbformat_minor": 5
}
