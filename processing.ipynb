{
 "cells": [
  {
   "cell_type": "code",
   "execution_count": 1,
   "id": "81e19d90d14171ed",
   "metadata": {
    "ExecuteTime": {
     "end_time": "2024-12-15T02:10:29.130744Z",
     "start_time": "2024-12-15T02:10:27.645912Z"
    }
   },
   "outputs": [],
   "source": [
    "import numpy as np\n",
    "import pandas as pd"
   ]
  },
  {
   "cell_type": "code",
   "execution_count": null,
   "id": "fb128556",
   "metadata": {},
   "outputs": [
    {
     "name": "stdout",
     "output_type": "stream",
     "text": [
      "[np.float64(-76.18850791), np.float64(-68.07518857), np.float64(49.5531477), np.float64(51.9423968)]\n"
     ]
    }
   ],
   "source": [
    "# Load the CSV file\n",
    "df_loc = pd.read_csv('data/feathermoss-2018/loc.csv', delimiter=';', header=0)\n",
    "\n",
    "# Find the minimum and maximum X and Y values\n",
    "min_longitude = df_loc['X'].min()\n",
    "max_longitude = df_loc['X'].max()\n",
    "min_latitude = df_loc['Y'].min()\n",
    "max_latitude = df_loc['Y'].max()\n",
    "# Convert to a list that contains bounding regions in coordinates\n",
    "bounding_box = [min_longitude, max_longitude, min_latitude, max_latitude]\n",
    "\n",
    "print(bounding_box)\n",
    "\n",
    "# print(min_longitude, max_longitude)\n",
    "# print(min_latitude, max_latitude)"
   ]
  },
  {
   "cell_type": "code",
   "execution_count": null,
   "id": "718c15d6",
   "metadata": {},
   "outputs": [],
   "source": []
  },
  {
   "cell_type": "code",
   "execution_count": null,
   "id": "d198e939",
   "metadata": {},
   "outputs": [],
   "source": []
  }
 ],
 "metadata": {
  "kernelspec": {
   "display_name": "carbon-seq-model",
   "language": "python",
   "name": "python3"
  },
  "language_info": {
   "codemirror_mode": {
    "name": "ipython",
    "version": 3
   },
   "file_extension": ".py",
   "mimetype": "text/x-python",
   "name": "python",
   "nbconvert_exporter": "python",
   "pygments_lexer": "ipython3",
   "version": "3.10.16"
  }
 },
 "nbformat": 4,
 "nbformat_minor": 5
}
